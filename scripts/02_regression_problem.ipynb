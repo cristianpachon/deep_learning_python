{
 "cells": [
  {
   "cell_type": "code",
   "execution_count": null,
   "metadata": {},
   "outputs": [],
   "source": [
    "from keras.datasets import boston_housing\n",
    "from keras import models\n",
    "from keras import layers\n",
    "import numpy as np"
   ]
  },
  {
   "cell_type": "code",
   "execution_count": null,
   "metadata": {},
   "outputs": [],
   "source": [
    "(train_data, train_targets), (test_data, test_targets) = boston_housing.load_data()\n",
    "\n",
    "train_data.shape\n",
    "test_data.shape\n",
    "train_targets"
   ]
  },
  {
   "cell_type": "code",
   "execution_count": null,
   "metadata": {},
   "outputs": [],
   "source": [
    "# Standardisation\n",
    "mean = train_data.mean(axis = 0)\n",
    "std = train_data.std(axis = 0)\n",
    "\n",
    "train_data -= mean\n",
    "train_data /= std\n",
    "\n",
    "test_data -= mean\n",
    "test_data /= std\n",
    "\n",
    "# Defining the model\n",
    "def build_model():\n",
    "    model = models.Sequential()\n",
    "\n",
    "    model.add(\n",
    "        layers.Dense(\n",
    "            64,\n",
    "            activation = 'relu',\n",
    "            input_shape = (train_data.shape[1], )\n",
    "        )\n",
    "    )\n",
    "    model.add(\n",
    "        layers.Dense(\n",
    "            64,\n",
    "            activation = 'relu'\n",
    "        )\n",
    "    )\n",
    "\n",
    "    model.add(\n",
    "        layers.Dense(1)\n",
    "    )\n",
    "\n",
    "    model.compile(\n",
    "        optimizer = 'rmsprop',\n",
    "        loss = 'mse',\n",
    "        metrics = ['mae']\n",
    "    )\n",
    "\n",
    "k = 4\n",
    "num_val_samples = len(train_data)// k\n",
    "num_epochs = 100\n",
    "all_scores = []\n"
   ]
  }
 ],
 "metadata": {
  "kernelspec": {
   "display_name": "Python 3",
   "language": "python",
   "name": "python3"
  },
  "language_info": {
   "codemirror_mode": {
    "name": "ipython",
    "version": 3
   },
   "file_extension": ".py",
   "mimetype": "text/x-python",
   "name": "python",
   "nbconvert_exporter": "python",
   "pygments_lexer": "ipython3",
   "version": "3.5.3"
  }
 },
 "nbformat": 4,
 "nbformat_minor": 2
}
