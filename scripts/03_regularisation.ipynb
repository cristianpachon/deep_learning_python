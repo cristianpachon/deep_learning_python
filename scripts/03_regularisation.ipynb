{
 "cells": [
  {
   "cell_type": "code",
   "execution_count": null,
   "metadata": {},
   "outputs": [],
   "source": [
    "from keras import models\n",
    "from keras import layers\n",
    "from keras import regularizers"
   ]
  },
  {
   "cell_type": "code",
   "execution_count": null,
   "metadata": {},
   "outputs": [],
   "source": [
    "### Movie review classification\n",
    "\n",
    "# Original model\n",
    "model = models.Sequential()\n",
    "model.add(layers.Dense(16, activation = 'relu', input_shape = (10000, )))\n",
    "model.add(layers.Dense(16, activation='relu'))\n",
    "model.add(layers.Dense(1, activation='sigmoid'))\n",
    "\n",
    "\n",
    "# Another version\n",
    "model = models.Sequential()\n",
    "model.add(layers.Dense(4, activation='relu', input_shape = (10000, )))\n",
    "model.add(layers.Dense(4, activation='relu'))\n",
    "model.add(layers.Dense(1, activation='sigmoid'))"
   ]
  },
  {
   "cell_type": "code",
   "execution_count": null,
   "metadata": {},
   "outputs": [],
   "source": [
    "# Adding L2 weight regularization to the model\n",
    "model = models.Sequential()\n",
    "\n",
    "model.add(\n",
    "    layers.Dense(\n",
    "        16,\n",
    "        kernel_regularizer = regularizers.l2(0.001),\n",
    "        activation = 'relu',\n",
    "        input_shape = (10000, )\n",
    "    )\n",
    ")\n",
    "\n",
    "model.add(\n",
    "    layers.Dense(\n",
    "        16,\n",
    "        kernel_regularizer = regularizers.l2(0.002),\n",
    "        activation = 'relu'\n",
    "    )\n",
    ")\n",
    "\n",
    "model.add(\n",
    "    layers.Dense(\n",
    "        1,\n",
    "        activation = 'sigmoid'\n",
    "    )\n",
    ")"
   ]
  }
 ],
 "metadata": {
  "kernelspec": {
   "display_name": "Python 3",
   "language": "python",
   "name": "python3"
  },
  "language_info": {
   "codemirror_mode": {
    "name": "ipython",
    "version": 3
   },
   "file_extension": ".py",
   "mimetype": "text/x-python",
   "name": "python",
   "nbconvert_exporter": "python",
   "pygments_lexer": "ipython3",
   "version": "3.5.3"
  }
 },
 "nbformat": 4,
 "nbformat_minor": 2
}
