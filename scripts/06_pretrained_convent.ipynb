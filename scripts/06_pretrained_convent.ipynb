{
 "cells": [
  {
   "cell_type": "markdown",
   "metadata": {},
   "source": [
    "## 1- Libraries"
   ]
  },
  {
   "cell_type": "code",
   "execution_count": 1,
   "metadata": {},
   "outputs": [
    {
     "name": "stderr",
     "output_type": "stream",
     "text": [
      "Using TensorFlow backend.\n"
     ]
    }
   ],
   "source": [
    "import os\n",
    "import numpy as np\n",
    "import tensorflow\n",
    "import pandas as pd\n",
    "from keras.preprocessing.image import ImageDataGenerator\n",
    "from keras.applications import VGG16\n",
    "from keras import models\n",
    "from keras import layers\n",
    "from keras import optimizers\n",
    "import matplotlib.pyplot as plt\n",
    "import cv2\n",
    "from PIL import Image"
   ]
  },
  {
   "cell_type": "markdown",
   "metadata": {},
   "source": [
    "## 2- Directories"
   ]
  },
  {
   "cell_type": "code",
   "execution_count": 4,
   "metadata": {},
   "outputs": [],
   "source": [
    "base_dir = '/home/jupyter/deep_learning_python/data/dogs-vs-cats/small'\n",
    "train_dir = os.path.join(base_dir, 'train')\n",
    "validation_dir = os.path.join(base_dir, 'validation')\n",
    "test_dir = os.path.join(base_dir, 'test')"
   ]
  },
  {
   "cell_type": "markdown",
   "metadata": {},
   "source": [
    "## 3- Instantating VGG16 convent"
   ]
  },
  {
   "cell_type": "code",
   "execution_count": 5,
   "metadata": {
    "hiddenCell": true
   },
   "outputs": [
    {
     "name": "stdout",
     "output_type": "stream",
     "text": [
      "WARNING:tensorflow:From /usr/local/lib/python2.7/dist-packages/tensorflow/python/framework/op_def_library.py:263: colocate_with (from tensorflow.python.framework.ops) is deprecated and will be removed in a future version.\n",
      "Instructions for updating:\n",
      "Colocations handled automatically by placer.\n"
     ]
    }
   ],
   "source": [
    "conv_base = VGG16(\n",
    "  weights = 'imagenet',\n",
    "  include_top = False,\n",
    "  input_shape = (150, 150, 3)\n",
    ")"
   ]
  },
  {
   "cell_type": "code",
   "execution_count": 6,
   "metadata": {
    "hiddenCell": true
   },
   "outputs": [
    {
     "name": "stdout",
     "output_type": "stream",
     "text": [
      "_________________________________________________________________\n",
      "Layer (type)                 Output Shape              Param #   \n",
      "=================================================================\n",
      "input_1 (InputLayer)         (None, 150, 150, 3)       0         \n",
      "_________________________________________________________________\n",
      "block1_conv1 (Conv2D)        (None, 150, 150, 64)      1792      \n",
      "_________________________________________________________________\n",
      "block1_conv2 (Conv2D)        (None, 150, 150, 64)      36928     \n",
      "_________________________________________________________________\n",
      "block1_pool (MaxPooling2D)   (None, 75, 75, 64)        0         \n",
      "_________________________________________________________________\n",
      "block2_conv1 (Conv2D)        (None, 75, 75, 128)       73856     \n",
      "_________________________________________________________________\n",
      "block2_conv2 (Conv2D)        (None, 75, 75, 128)       147584    \n",
      "_________________________________________________________________\n",
      "block2_pool (MaxPooling2D)   (None, 37, 37, 128)       0         \n",
      "_________________________________________________________________\n",
      "block3_conv1 (Conv2D)        (None, 37, 37, 256)       295168    \n",
      "_________________________________________________________________\n",
      "block3_conv2 (Conv2D)        (None, 37, 37, 256)       590080    \n",
      "_________________________________________________________________\n",
      "block3_conv3 (Conv2D)        (None, 37, 37, 256)       590080    \n",
      "_________________________________________________________________\n",
      "block3_pool (MaxPooling2D)   (None, 18, 18, 256)       0         \n",
      "_________________________________________________________________\n",
      "block4_conv1 (Conv2D)        (None, 18, 18, 512)       1180160   \n",
      "_________________________________________________________________\n",
      "block4_conv2 (Conv2D)        (None, 18, 18, 512)       2359808   \n",
      "_________________________________________________________________\n",
      "block4_conv3 (Conv2D)        (None, 18, 18, 512)       2359808   \n",
      "_________________________________________________________________\n",
      "block4_pool (MaxPooling2D)   (None, 9, 9, 512)         0         \n",
      "_________________________________________________________________\n",
      "block5_conv1 (Conv2D)        (None, 9, 9, 512)         2359808   \n",
      "_________________________________________________________________\n",
      "block5_conv2 (Conv2D)        (None, 9, 9, 512)         2359808   \n",
      "_________________________________________________________________\n",
      "block5_conv3 (Conv2D)        (None, 9, 9, 512)         2359808   \n",
      "_________________________________________________________________\n",
      "block5_pool (MaxPooling2D)   (None, 4, 4, 512)         0         \n",
      "=================================================================\n",
      "Total params: 14,714,688\n",
      "Trainable params: 14,714,688\n",
      "Non-trainable params: 0\n",
      "_________________________________________________________________\n"
     ]
    }
   ],
   "source": [
    "conv_base.summary()"
   ]
  },
  {
   "cell_type": "markdown",
   "metadata": {},
   "source": [
    "## 4- Ways of proceed"
   ]
  },
  {
   "cell_type": "markdown",
   "metadata": {},
   "source": [
    "At this point there are two ways of proceed:\n",
    "\n",
    "* Fast feature extraction without data augmentation\n",
    "* Feature extraction with data augmentation"
   ]
  },
  {
   "cell_type": "markdown",
   "metadata": {},
   "source": [
    "### 4.1 Fast feature extraction"
   ]
  },
  {
   "cell_type": "markdown",
   "metadata": {},
   "source": [
    "#### 4.1.1- Extraction "
   ]
  },
  {
   "cell_type": "code",
   "execution_count": 5,
   "metadata": {},
   "outputs": [],
   "source": [
    "datagen = ImageDataGenerator(rescale = 1./255)\n",
    "batch_size = 20"
   ]
  },
  {
   "cell_type": "code",
   "execution_count": 6,
   "metadata": {},
   "outputs": [],
   "source": [
    "def extract_features(directory, sample_count):\n",
    "    features = np.zeros(\n",
    "        shape = (sample_count, 4, 4, 512)\n",
    "      )\n",
    "    labels = np.zeros(shape = (sample_count))\n",
    "\n",
    "    generator = datagen.flow_from_directory(\n",
    "        directory,\n",
    "        target_size = (150, 150),\n",
    "        batch_size = batch_size,\n",
    "        class_mode = 'binary'\n",
    "      )\n",
    "  \n",
    "    i = 0\n",
    "    for inputs_batch, labels_batch in generator:\n",
    "        features_batch = conv_base.predict(inputs_batch)\n",
    "        features[i*batch_size:(i+1)*batch_size] = features_batch\n",
    "        labels[i*batch_size:(i+1)*batch_size] = labels_batch\n",
    "        i += 1\n",
    "        if i*batch_size >= sample_count:\n",
    "            break\n",
    "    return features, labels"
   ]
  },
  {
   "cell_type": "code",
   "execution_count": 7,
   "metadata": {},
   "outputs": [
    {
     "name": "stdout",
     "output_type": "stream",
     "text": [
      "Found 2000 images belonging to 2 classes.\n"
     ]
    }
   ],
   "source": [
    "train_features, train_labels = extract_features(train_dir, 2000)"
   ]
  },
  {
   "cell_type": "code",
   "execution_count": 8,
   "metadata": {},
   "outputs": [
    {
     "name": "stdout",
     "output_type": "stream",
     "text": [
      "Found 1000 images belonging to 2 classes.\n"
     ]
    }
   ],
   "source": [
    "validation_features, validation_labels = extract_features(validation_dir, 1000)"
   ]
  },
  {
   "cell_type": "code",
   "execution_count": 9,
   "metadata": {},
   "outputs": [
    {
     "name": "stdout",
     "output_type": "stream",
     "text": [
      "Found 1000 images belonging to 2 classes.\n"
     ]
    }
   ],
   "source": [
    "test_features, test_labels = extract_features(test_dir, 1000)"
   ]
  },
  {
   "cell_type": "markdown",
   "metadata": {},
   "source": [
    "#### 4.1.2- Reshape"
   ]
  },
  {
   "cell_type": "code",
   "execution_count": 10,
   "metadata": {},
   "outputs": [],
   "source": [
    "train_features = np.reshape(train_features, (2000, 4* 4 * 512))\n",
    "validation_features = np.reshape(validation_features, (1000, 4* 4 * 512))\n",
    "test_features =  np.reshape(test_features, (1000, 4* 4 * 512))"
   ]
  },
  {
   "cell_type": "markdown",
   "metadata": {},
   "source": [
    "#### 4.1.3- Definig and training the densely connected classifier"
   ]
  },
  {
   "cell_type": "code",
   "execution_count": 1,
   "metadata": {},
   "outputs": [
    {
     "ename": "NameError",
     "evalue": "name 'models' is not defined",
     "output_type": "error",
     "traceback": [
      "\u001b[0;31m\u001b[0m",
      "\u001b[0;31mNameError\u001b[0mTraceback (most recent call last)",
      "\u001b[0;32m<ipython-input-1-a7dcc540a65e>\u001b[0m in \u001b[0;36m<module>\u001b[0;34m()\u001b[0m\n\u001b[0;32m----> 1\u001b[0;31m \u001b[0mmodel\u001b[0m \u001b[0;34m=\u001b[0m \u001b[0mmodels\u001b[0m\u001b[0;34m.\u001b[0m\u001b[0mSequential\u001b[0m\u001b[0;34m(\u001b[0m\u001b[0;34m)\u001b[0m\u001b[0;34m\u001b[0m\u001b[0m\n\u001b[0m\u001b[1;32m      2\u001b[0m \u001b[0mmodel\u001b[0m\u001b[0;34m.\u001b[0m\u001b[0madd\u001b[0m\u001b[0;34m(\u001b[0m\u001b[0mlayers\u001b[0m\u001b[0;34m.\u001b[0m\u001b[0mDense\u001b[0m\u001b[0;34m(\u001b[0m\u001b[0;36m256\u001b[0m\u001b[0;34m,\u001b[0m \u001b[0mactivation\u001b[0m \u001b[0;34m=\u001b[0m \u001b[0;34m'relu'\u001b[0m\u001b[0;34m,\u001b[0m \u001b[0minput_dim\u001b[0m \u001b[0;34m=\u001b[0m \u001b[0;36m4\u001b[0m\u001b[0;34m*\u001b[0m\u001b[0;36m4\u001b[0m\u001b[0;34m*\u001b[0m\u001b[0;36m512\u001b[0m\u001b[0;34m)\u001b[0m\u001b[0;34m)\u001b[0m\u001b[0;34m\u001b[0m\u001b[0m\n\u001b[1;32m      3\u001b[0m \u001b[0mmodel\u001b[0m\u001b[0;34m.\u001b[0m\u001b[0madd\u001b[0m\u001b[0;34m(\u001b[0m\u001b[0mlayers\u001b[0m\u001b[0;34m.\u001b[0m\u001b[0mDropout\u001b[0m\u001b[0;34m(\u001b[0m\u001b[0;36m0.5\u001b[0m\u001b[0;34m)\u001b[0m\u001b[0;34m)\u001b[0m\u001b[0;34m\u001b[0m\u001b[0m\n\u001b[1;32m      4\u001b[0m \u001b[0mmodel\u001b[0m\u001b[0;34m.\u001b[0m\u001b[0madd\u001b[0m\u001b[0;34m(\u001b[0m\u001b[0mlayers\u001b[0m\u001b[0;34m.\u001b[0m\u001b[0mDense\u001b[0m\u001b[0;34m(\u001b[0m\u001b[0;36m1\u001b[0m\u001b[0;34m,\u001b[0m \u001b[0mactivation\u001b[0m \u001b[0;34m=\u001b[0m \u001b[0;34m'sigmoid'\u001b[0m\u001b[0;34m)\u001b[0m\u001b[0;34m)\u001b[0m\u001b[0;34m\u001b[0m\u001b[0m\n",
      "\u001b[0;31mNameError\u001b[0m: name 'models' is not defined"
     ]
    }
   ],
   "source": [
    "model = models.Sequential()\n",
    "model.add(layers.Dense(256, activation = 'relu', input_dim = 4*4*512))\n",
    "model.add(layers.Dropout(0.5))\n",
    "model.add(layers.Dense(1, activation = 'sigmoid'))"
   ]
  },
  {
   "cell_type": "code",
   "execution_count": 14,
   "metadata": {},
   "outputs": [],
   "source": [
    "model.compile(\n",
    "  optimizer = optimizers.RMSprop(lr = 2e-5),\n",
    "  loss = 'binary_crossentropy',\n",
    "  metrics = ['acc']\n",
    ")"
   ]
  },
  {
   "cell_type": "code",
   "execution_count": 15,
   "metadata": {},
   "outputs": [
    {
     "name": "stdout",
     "output_type": "stream",
     "text": [
      "WARNING:tensorflow:From /usr/local/lib/python2.7/dist-packages/tensorflow/python/ops/math_ops.py:3066: to_int32 (from tensorflow.python.ops.math_ops) is deprecated and will be removed in a future version.\n",
      "Instructions for updating:\n",
      "Use tf.cast instead.\n",
      "Train on 2000 samples, validate on 1000 samples\n",
      "Epoch 1/30\n",
      "2000/2000 [==============================] - 2s 925us/step - loss: 0.5824 - acc: 0.6825 - val_loss: 0.4332 - val_acc: 0.8400\n",
      "Epoch 2/30\n",
      "2000/2000 [==============================] - 1s 407us/step - loss: 0.4222 - acc: 0.8120 - val_loss: 0.3617 - val_acc: 0.8560\n",
      "Epoch 3/30\n",
      "2000/2000 [==============================] - 1s 400us/step - loss: 0.3627 - acc: 0.8475 - val_loss: 0.3246 - val_acc: 0.8760\n",
      "Epoch 4/30\n",
      "2000/2000 [==============================] - 1s 398us/step - loss: 0.3108 - acc: 0.8660 - val_loss: 0.3034 - val_acc: 0.8860\n",
      "Epoch 5/30\n",
      "2000/2000 [==============================] - 1s 395us/step - loss: 0.2911 - acc: 0.8770 - val_loss: 0.2856 - val_acc: 0.8890\n",
      "Epoch 6/30\n",
      "2000/2000 [==============================] - 1s 410us/step - loss: 0.2654 - acc: 0.8930 - val_loss: 0.2776 - val_acc: 0.8920\n",
      "Epoch 7/30\n",
      "2000/2000 [==============================] - 1s 407us/step - loss: 0.2475 - acc: 0.8980 - val_loss: 0.2826 - val_acc: 0.8800\n",
      "Epoch 8/30\n",
      "2000/2000 [==============================] - 1s 403us/step - loss: 0.2266 - acc: 0.9160 - val_loss: 0.2616 - val_acc: 0.8950\n",
      "Epoch 9/30\n",
      "2000/2000 [==============================] - 1s 407us/step - loss: 0.2202 - acc: 0.9165 - val_loss: 0.2559 - val_acc: 0.9030\n",
      "Epoch 10/30\n",
      "2000/2000 [==============================] - 1s 408us/step - loss: 0.2073 - acc: 0.9220 - val_loss: 0.2538 - val_acc: 0.8990\n",
      "Epoch 11/30\n",
      "2000/2000 [==============================] - 1s 408us/step - loss: 0.1973 - acc: 0.9275 - val_loss: 0.2501 - val_acc: 0.8990\n",
      "Epoch 12/30\n",
      "2000/2000 [==============================] - 1s 402us/step - loss: 0.1897 - acc: 0.9335 - val_loss: 0.2453 - val_acc: 0.9010\n",
      "Epoch 13/30\n",
      "2000/2000 [==============================] - 1s 413us/step - loss: 0.1708 - acc: 0.9390 - val_loss: 0.2519 - val_acc: 0.8960\n",
      "Epoch 14/30\n",
      "2000/2000 [==============================] - 1s 413us/step - loss: 0.1680 - acc: 0.9380 - val_loss: 0.2415 - val_acc: 0.9050\n",
      "Epoch 15/30\n",
      "2000/2000 [==============================] - 1s 407us/step - loss: 0.1581 - acc: 0.9455 - val_loss: 0.2397 - val_acc: 0.9020\n",
      "Epoch 16/30\n",
      "2000/2000 [==============================] - 1s 414us/step - loss: 0.1554 - acc: 0.9520 - val_loss: 0.2401 - val_acc: 0.9020\n",
      "Epoch 17/30\n",
      "2000/2000 [==============================] - 1s 410us/step - loss: 0.1450 - acc: 0.9475 - val_loss: 0.2381 - val_acc: 0.9040\n",
      "Epoch 18/30\n",
      "2000/2000 [==============================] - 1s 410us/step - loss: 0.1436 - acc: 0.9545 - val_loss: 0.2435 - val_acc: 0.9000\n",
      "Epoch 19/30\n",
      "2000/2000 [==============================] - 1s 412us/step - loss: 0.1383 - acc: 0.9540 - val_loss: 0.2371 - val_acc: 0.9060\n",
      "Epoch 20/30\n",
      "2000/2000 [==============================] - 1s 412us/step - loss: 0.1338 - acc: 0.9535 - val_loss: 0.2360 - val_acc: 0.9060\n",
      "Epoch 21/30\n",
      "2000/2000 [==============================] - 1s 397us/step - loss: 0.1241 - acc: 0.9620 - val_loss: 0.2408 - val_acc: 0.9020\n",
      "Epoch 22/30\n",
      "2000/2000 [==============================] - 1s 398us/step - loss: 0.1226 - acc: 0.9600 - val_loss: 0.2418 - val_acc: 0.8970\n",
      "Epoch 23/30\n",
      "2000/2000 [==============================] - 1s 404us/step - loss: 0.1112 - acc: 0.9640 - val_loss: 0.2583 - val_acc: 0.8930\n",
      "Epoch 24/30\n",
      "2000/2000 [==============================] - 1s 413us/step - loss: 0.1065 - acc: 0.9665 - val_loss: 0.2388 - val_acc: 0.9020\n",
      "Epoch 25/30\n",
      "2000/2000 [==============================] - 1s 411us/step - loss: 0.1085 - acc: 0.9625 - val_loss: 0.2379 - val_acc: 0.9090\n",
      "Epoch 26/30\n",
      "2000/2000 [==============================] - 1s 413us/step - loss: 0.1016 - acc: 0.9690 - val_loss: 0.2399 - val_acc: 0.9050\n",
      "Epoch 27/30\n",
      "2000/2000 [==============================] - 1s 403us/step - loss: 0.0959 - acc: 0.9700 - val_loss: 0.2520 - val_acc: 0.8970\n",
      "Epoch 28/30\n",
      "2000/2000 [==============================] - 1s 407us/step - loss: 0.0946 - acc: 0.9715 - val_loss: 0.2471 - val_acc: 0.8970\n",
      "Epoch 29/30\n",
      "2000/2000 [==============================] - 1s 406us/step - loss: 0.0917 - acc: 0.9755 - val_loss: 0.2415 - val_acc: 0.9040\n",
      "Epoch 30/30\n",
      "2000/2000 [==============================] - 1s 414us/step - loss: 0.0865 - acc: 0.9705 - val_loss: 0.2545 - val_acc: 0.8970\n"
     ]
    }
   ],
   "source": [
    "history = model.fit(\n",
    "  train_features,\n",
    "  train_labels,\n",
    "  epochs = 30,\n",
    "  batch_size = 20,\n",
    "  validation_data = (validation_features, validation_labels)\n",
    ")"
   ]
  },
  {
   "cell_type": "code",
   "execution_count": 26,
   "metadata": {},
   "outputs": [
    {
     "data": {
      "image/png": "[encoded data removed]",
      "text/plain": [
       "<Figure size 432x288 with 1 Axes>"
      ]
     },
     "metadata": {
      "needs_background": "light"
     },
     "output_type": "display_data"
    },
    {
     "data": {
      "image/png": "[encoded data removed]",
      "text/plain": [
       "<Figure size 432x288 with 1 Axes>"
      ]
     },
     "metadata": {
      "needs_background": "light"
     },
     "output_type": "display_data"
    }
   ],
   "source": [
    "acc = history.history['acc']\n",
    "val_acc = history.history['val_acc']\n",
    "loss = history.history['loss']\n",
    "val_loss = history.history['val_loss']\n",
    "epochs = range(1, len(acc) + 1)\n",
    "plt.plot(epochs, acc, 'bo', label = 'Training acc')\n",
    "plt.plot(epochs, val_acc, 'b', label = 'Validation acc')\n",
    "plt.title(\"Training and validation accuracy\")\n",
    "plt.legend()\n",
    "\n",
    "plt.figure()\n",
    "\n",
    "plt.plot(epochs, loss, 'bo', label = 'Training loss')\n",
    "plt.plot(epochs, val_loss, 'b', label = 'Validation loss')\n",
    "plt.title(\"Training and validation loss\")\n",
    "plt.legend()\n",
    "\n",
    "plt.show()"
   ]
  },
  {
   "cell_type": "markdown",
   "metadata": {},
   "source": [
    "### 4.2 Feature extraction with data augmentation"
   ]
  },
  {
   "cell_type": "markdown",
   "metadata": {},
   "source": [
    "#### 4.2.1 Adding a densely connected classifier on top of the convolutional base"
   ]
  },
  {
   "cell_type": "code",
   "execution_count": 18,
   "metadata": {},
   "outputs": [],
   "source": [
    "model = models.Sequential()\n",
    "model.add(conv_base)\n",
    "model.add(layers.Flatten())\n",
    "model.add(layers.Dense(256, activation = 'relu'))\n",
    "model.add(layers.Dense(1, activation = 'sigmoid'))"
   ]
  },
  {
   "cell_type": "markdown",
   "metadata": {},
   "source": [
    "#### 4.2.2 Training the model"
   ]
  },
  {
   "cell_type": "code",
   "execution_count": 19,
   "metadata": {},
   "outputs": [
    {
     "name": "stdout",
     "output_type": "stream",
     "text": [
      "This is the number of trainable weights before freezing the base 4\n",
      "This is the number of trainable weights after freezing the base 4\n"
     ]
    }
   ],
   "source": [
    "print(\"This is the number of trainable weights before freezing the base \" + str(len(model.trainable_weights)))\n",
    "conv_base.trainable = False\n",
    "print(\"This is the number of trainable weights after freezing the base \" + str(len(model.trainable_weights)))"
   ]
  },
  {
   "cell_type": "code",
   "execution_count": 20,
   "metadata": {},
   "outputs": [
    {
     "name": "stdout",
     "output_type": "stream",
     "text": [
      "Found 2000 images belonging to 2 classes.\n",
      "Found 1000 images belonging to 2 classes.\n",
      "Epoch 1/30\n",
      "100/100 [==============================] - 28s 284ms/step - loss: 0.5901 - acc: 0.7005 - val_loss: 0.4569 - val_acc: 0.8230\n",
      "Epoch 2/30\n",
      "100/100 [==============================] - 27s 270ms/step - loss: 0.4871 - acc: 0.7805 - val_loss: 0.3795 - val_acc: 0.8540\n",
      "Epoch 3/30\n",
      "100/100 [==============================] - 27s 266ms/step - loss: 0.4388 - acc: 0.8055 - val_loss: 0.3433 - val_acc: 0.8640\n",
      "Epoch 4/30\n",
      "100/100 [==============================] - 27s 268ms/step - loss: 0.4053 - acc: 0.8240 - val_loss: 0.3088 - val_acc: 0.8830\n",
      "Epoch 5/30\n",
      "100/100 [==============================] - 26s 262ms/step - loss: 0.3821 - acc: 0.8360 - val_loss: 0.2925 - val_acc: 0.8860\n",
      "Epoch 6/30\n",
      "100/100 [==============================] - 27s 269ms/step - loss: 0.3796 - acc: 0.8385 - val_loss: 0.2816 - val_acc: 0.8880\n",
      "Epoch 7/30\n",
      "100/100 [==============================] - 27s 268ms/step - loss: 0.3699 - acc: 0.8225 - val_loss: 0.2755 - val_acc: 0.8960\n",
      "Epoch 8/30\n",
      "100/100 [==============================] - 26s 262ms/step - loss: 0.3618 - acc: 0.8395 - val_loss: 0.2708 - val_acc: 0.8920\n",
      "Epoch 9/30\n",
      "100/100 [==============================] - 26s 265ms/step - loss: 0.3357 - acc: 0.8460 - val_loss: 0.2668 - val_acc: 0.8970\n",
      "Epoch 10/30\n",
      "100/100 [==============================] - 27s 266ms/step - loss: 0.3450 - acc: 0.8480 - val_loss: 0.2580 - val_acc: 0.8960\n",
      "Epoch 11/30\n",
      "100/100 [==============================] - 26s 264ms/step - loss: 0.3172 - acc: 0.8615 - val_loss: 0.2898 - val_acc: 0.8730\n",
      "Epoch 12/30\n",
      "100/100 [==============================] - 26s 262ms/step - loss: 0.3372 - acc: 0.8595 - val_loss: 0.2582 - val_acc: 0.8910\n",
      "Epoch 13/30\n",
      "100/100 [==============================] - 27s 266ms/step - loss: 0.3235 - acc: 0.8680 - val_loss: 0.2537 - val_acc: 0.9030\n",
      "Epoch 14/30\n",
      "100/100 [==============================] - 27s 268ms/step - loss: 0.3256 - acc: 0.8565 - val_loss: 0.2509 - val_acc: 0.8980\n",
      "Epoch 15/30\n",
      "100/100 [==============================] - 27s 268ms/step - loss: 0.3186 - acc: 0.8665 - val_loss: 0.2475 - val_acc: 0.9040\n",
      "Epoch 16/30\n",
      "100/100 [==============================] - 27s 266ms/step - loss: 0.2999 - acc: 0.8730 - val_loss: 0.2469 - val_acc: 0.8970\n",
      "Epoch 17/30\n",
      "100/100 [==============================] - 27s 268ms/step - loss: 0.2919 - acc: 0.8700 - val_loss: 0.2464 - val_acc: 0.9010\n",
      "Epoch 18/30\n",
      "100/100 [==============================] - 27s 268ms/step - loss: 0.3047 - acc: 0.8635 - val_loss: 0.2496 - val_acc: 0.8990\n",
      "Epoch 19/30\n",
      "100/100 [==============================] - 27s 267ms/step - loss: 0.3020 - acc: 0.8700 - val_loss: 0.2442 - val_acc: 0.9000\n",
      "Epoch 20/30\n",
      "100/100 [==============================] - 27s 267ms/step - loss: 0.2965 - acc: 0.8605 - val_loss: 0.2409 - val_acc: 0.8990\n",
      "Epoch 21/30\n",
      "100/100 [==============================] - 27s 267ms/step - loss: 0.2899 - acc: 0.8730 - val_loss: 0.2459 - val_acc: 0.8980\n",
      "Epoch 22/30\n",
      "100/100 [==============================] - 27s 268ms/step - loss: 0.2951 - acc: 0.8680 - val_loss: 0.2506 - val_acc: 0.8980\n",
      "Epoch 23/30\n",
      "100/100 [==============================] - 27s 266ms/step - loss: 0.3014 - acc: 0.8680 - val_loss: 0.2396 - val_acc: 0.8980\n",
      "Epoch 24/30\n",
      "100/100 [==============================] - 27s 269ms/step - loss: 0.2953 - acc: 0.8710 - val_loss: 0.2405 - val_acc: 0.9040\n",
      "Epoch 25/30\n",
      "100/100 [==============================] - 27s 267ms/step - loss: 0.2881 - acc: 0.8800 - val_loss: 0.2385 - val_acc: 0.9040\n",
      "Epoch 26/30\n",
      "100/100 [==============================] - 27s 272ms/step - loss: 0.2826 - acc: 0.8755 - val_loss: 0.2410 - val_acc: 0.8950\n",
      "Epoch 27/30\n",
      "100/100 [==============================] - 26s 263ms/step - loss: 0.2776 - acc: 0.8790 - val_loss: 0.2413 - val_acc: 0.8970\n",
      "Epoch 28/30\n",
      "100/100 [==============================] - 27s 266ms/step - loss: 0.2773 - acc: 0.8740 - val_loss: 0.2411 - val_acc: 0.9020\n",
      "Epoch 29/30\n",
      "100/100 [==============================] - 27s 269ms/step - loss: 0.2872 - acc: 0.8780 - val_loss: 0.2408 - val_acc: 0.9040\n",
      "Epoch 30/30\n",
      "100/100 [==============================] - 27s 267ms/step - loss: 0.2736 - acc: 0.8800 - val_loss: 0.2383 - val_acc: 0.8990\n"
     ]
    }
   ],
   "source": [
    "train_datagen = ImageDataGenerator(\n",
    "    rescale = 1./255,\n",
    "    rotation_range = 40,\n",
    "    width_shift_range = 0.2,\n",
    "    height_shift_range = 0.2,\n",
    "    shear_range = 0.2,\n",
    "    zoom_range = 0.2,\n",
    "    horizontal_flip = True,\n",
    "    fill_mode = 'nearest'\n",
    ")\n",
    "\n",
    "test_datagen = ImageDataGenerator(\n",
    "    rescale = 1./255\n",
    ")\n",
    "\n",
    "train_generator = train_datagen.flow_from_directory(\n",
    "    train_dir,\n",
    "    target_size = (150, 150),\n",
    "    batch_size = 20,\n",
    "    class_mode = 'binary'\n",
    ")\n",
    "\n",
    "validation_generator = test_datagen.flow_from_directory(\n",
    "    validation_dir,\n",
    "    target_size = (150, 150),\n",
    "    batch_size = 20,\n",
    "    class_mode = 'binary'\n",
    ")\n",
    "\n",
    "\n",
    "model.compile(\n",
    "    loss = 'binary_crossentropy',\n",
    "    optimizer = optimizers.RMSprop(lr = 2e-5),\n",
    "    metrics = ['acc']\n",
    ")\n",
    "\n",
    "history = model.fit_generator(\n",
    "   train_generator,\n",
    "    steps_per_epoch = 100,\n",
    "    epochs = 30,\n",
    "    validation_data = validation_generator,\n",
    "    validation_steps = 50\n",
    ")"
   ]
  },
  {
   "cell_type": "code",
   "execution_count": 21,
   "metadata": {},
   "outputs": [
    {
     "data": {
      "image/png": "[encoded data removed]",
      "text/plain": [
       "<Figure size 432x288 with 1 Axes>"
      ]
     },
     "metadata": {
      "needs_background": "light"
     },
     "output_type": "display_data"
    },
    {
     "data": {
      "image/png": "[encoded data removed]",
      "text/plain": [
       "<Figure size 432x288 with 1 Axes>"
      ]
     },
     "metadata": {
      "needs_background": "light"
     },
     "output_type": "display_data"
    }
   ],
   "source": [
    "acc = history.history['acc']\n",
    "val_acc = history.history['val_acc']\n",
    "loss = history.history['loss']\n",
    "val_loss = history.history['val_loss']\n",
    "epochs = range(1, len(acc) + 1)\n",
    "plt.plot(epochs, acc, 'bo', label = 'Training acc')\n",
    "plt.plot(epochs, val_acc, 'b', label = 'Validation acc')\n",
    "plt.title(\"Training and validation accuracy\")\n",
    "plt.legend()\n",
    "\n",
    "plt.figure()\n",
    "\n",
    "plt.plot(epochs, loss, 'bo', label = 'Training loss')\n",
    "plt.plot(epochs, val_loss, 'b', label = 'Validation loss')\n",
    "plt.title(\"Training and validation loss\")\n",
    "plt.legend()\n",
    "\n",
    "plt.show()"
   ]
  },
  {
   "cell_type": "markdown",
   "metadata": {},
   "source": [
    "#### 4.2.3 Prediction"
   ]
  },
  {
   "cell_type": "code",
   "execution_count": 150,
   "metadata": {},
   "outputs": [
    {
     "name": "stdout",
     "output_type": "stream",
     "text": [
      "/home/jupyter/deep_learning_python/data/dogs-vs-cats/small/to_test\n"
     ]
    }
   ],
   "source": [
    "folder = '/home/jupyter/deep_learning_python/data/dogs-vs-cats/small/to_test'\n",
    "print(folder)"
   ]
  },
  {
   "cell_type": "code",
   "execution_count": 151,
   "metadata": {},
   "outputs": [],
   "source": [
    "img = Image.open(os.path.join(folder, 'images', 'cat.09.jpg'))\n",
    "img = img.resize((150,150))\n",
    "img = np.asarray(img)\n",
    "img = img.astype('float32')\n",
    "img = img * 1.0/255\n",
    "img = np.reshape(img,(1,150,150,3))"
   ]
  },
  {
   "cell_type": "code",
   "execution_count": 152,
   "metadata": {},
   "outputs": [
    {
     "name": "stdout",
     "output_type": "stream",
     "text": [
      "[[0]]\n",
      "[[0.319096]]\n"
     ]
    }
   ],
   "source": [
    "classes = model.predict_classes(img)\n",
    "classes2 = model.predict(img)\n",
    "print classes\n",
    "print classes2"
   ]
  },
  {
   "cell_type": "code",
   "execution_count": 153,
   "metadata": {},
   "outputs": [
    {
     "name": "stdout",
     "output_type": "stream",
     "text": [
      "Found 2 images belonging to 2 classes.\n"
     ]
    }
   ],
   "source": [
    "test_datagen2 = ImageDataGenerator(\n",
    "    rescale = 1./255\n",
    ")\n",
    "\n",
    "test_generator2 = test_datagen2.flow_from_directory(\n",
    "    folder,\n",
    "    target_size = (150, 150),\n",
    "    batch_size = 2,\n",
    "    class_mode = 'binary',\n",
    "    shuffle = False\n",
    ")\n",
    "test_generator2.reset()\n",
    "pred = model.predict_generator(test_generator2, steps = 1)\n",
    "filenames = test_generator2.filenames"
   ]
  },
  {
   "cell_type": "code",
   "execution_count": 147,
   "metadata": {},
   "outputs": [],
   "source": [
    "pred_list = np.squeeze(pred)\n",
    "pred_list = pred_list.tolist()"
   ]
  },
  {
   "cell_type": "code",
   "execution_count": 148,
   "metadata": {},
   "outputs": [
    {
     "name": "stdout",
     "output_type": "stream",
     "text": [
      "            Filename  Predictions\n",
      "0  images/cat.09.jpg     0.319096\n",
      "1  images/cat.10.jpg     0.052839\n"
     ]
    }
   ],
   "source": [
    "results=pd.DataFrame({\n",
    "    \"Filename\":filenames,\n",
    "    \"Predictions\":pred_list\n",
    "})\n",
    "#print(results.head())\n",
    "#print(results.tail())\n",
    "print(results)"
   ]
  },
  {
   "cell_type": "markdown",
   "metadata": {},
   "source": [
    "### 4.3 Fine-tuning"
   ]
  },
  {
   "cell_type": "markdown",
   "metadata": {},
   "source": [
    "We are going to to fine-tune the last three convolutional layers, which means all layers up to block4_pool should be frozeen.\n",
    "\n",
    "Note that we use the model trained in section 4.2 Feature extraction with data augmentation. The steps to perform fine tuning are the following ones:\n",
    "* Load the model (VGG16).\n",
    "* Add the custom network on top of VGG16.\n",
    "* Freeze the base network.\n",
    "* Train the part we added.\n",
    "* Unfreeze some layers in the base network.\n",
    "* Jointly train both these layers and the part we added."
   ]
  },
  {
   "cell_type": "code",
   "execution_count": 22,
   "metadata": {},
   "outputs": [
    {
     "name": "stdout",
     "output_type": "stream",
     "text": [
      "_________________________________________________________________\n",
      "Layer (type)                 Output Shape              Param #   \n",
      "=================================================================\n",
      "input_1 (InputLayer)         (None, 150, 150, 3)       0         \n",
      "_________________________________________________________________\n",
      "block1_conv1 (Conv2D)        (None, 150, 150, 64)      1792      \n",
      "_________________________________________________________________\n",
      "block1_conv2 (Conv2D)        (None, 150, 150, 64)      36928     \n",
      "_________________________________________________________________\n",
      "block1_pool (MaxPooling2D)   (None, 75, 75, 64)        0         \n",
      "_________________________________________________________________\n",
      "block2_conv1 (Conv2D)        (None, 75, 75, 128)       73856     \n",
      "_________________________________________________________________\n",
      "block2_conv2 (Conv2D)        (None, 75, 75, 128)       147584    \n",
      "_________________________________________________________________\n",
      "block2_pool (MaxPooling2D)   (None, 37, 37, 128)       0         \n",
      "_________________________________________________________________\n",
      "block3_conv1 (Conv2D)        (None, 37, 37, 256)       295168    \n",
      "_________________________________________________________________\n",
      "block3_conv2 (Conv2D)        (None, 37, 37, 256)       590080    \n",
      "_________________________________________________________________\n",
      "block3_conv3 (Conv2D)        (None, 37, 37, 256)       590080    \n",
      "_________________________________________________________________\n",
      "block3_pool (MaxPooling2D)   (None, 18, 18, 256)       0         \n",
      "_________________________________________________________________\n",
      "block4_conv1 (Conv2D)        (None, 18, 18, 512)       1180160   \n",
      "_________________________________________________________________\n",
      "block4_conv2 (Conv2D)        (None, 18, 18, 512)       2359808   \n",
      "_________________________________________________________________\n",
      "block4_conv3 (Conv2D)        (None, 18, 18, 512)       2359808   \n",
      "_________________________________________________________________\n",
      "block4_pool (MaxPooling2D)   (None, 9, 9, 512)         0         \n",
      "_________________________________________________________________\n",
      "block5_conv1 (Conv2D)        (None, 9, 9, 512)         2359808   \n",
      "_________________________________________________________________\n",
      "block5_conv2 (Conv2D)        (None, 9, 9, 512)         2359808   \n",
      "_________________________________________________________________\n",
      "block5_conv3 (Conv2D)        (None, 9, 9, 512)         2359808   \n",
      "_________________________________________________________________\n",
      "block5_pool (MaxPooling2D)   (None, 4, 4, 512)         0         \n",
      "=================================================================\n",
      "Total params: 14,714,688\n",
      "Trainable params: 0\n",
      "Non-trainable params: 14,714,688\n",
      "_________________________________________________________________\n"
     ]
    }
   ],
   "source": [
    "conv_base.summary()"
   ]
  },
  {
   "cell_type": "code",
   "execution_count": 23,
   "metadata": {},
   "outputs": [],
   "source": [
    "conv_base.trainable = True\n",
    "\n",
    "set_trainable = False\n",
    "for layer in conv_base.layers:\n",
    "    if layer.name == 'block5_con1':\n",
    "        set_trainable = True\n",
    "    \n",
    "    if set_trainable:\n",
    "        layer.trainable = True\n",
    "    else:\n",
    "        layer.trainable = False"
   ]
  },
  {
   "cell_type": "code",
   "execution_count": 25,
   "metadata": {},
   "outputs": [
    {
     "name": "stdout",
     "output_type": "stream",
     "text": [
      "Epoch 1/100\n",
      "100/100 [==============================] - 29s 286ms/step - loss: 0.2838 - acc: 0.8820 - val_loss: 0.2455 - val_acc: 0.9020\n",
      "Epoch 2/100\n",
      "100/100 [==============================] - 27s 266ms/step - loss: 0.2850 - acc: 0.8815 - val_loss: 0.2318 - val_acc: 0.9020\n",
      "Epoch 3/100\n",
      "100/100 [==============================] - 27s 269ms/step - loss: 0.2856 - acc: 0.8835 - val_loss: 0.2447 - val_acc: 0.8930\n",
      "Epoch 4/100\n",
      "100/100 [==============================] - 27s 267ms/step - loss: 0.2604 - acc: 0.8860 - val_loss: 0.2268 - val_acc: 0.9030\n",
      "Epoch 5/100\n",
      "100/100 [==============================] - 27s 267ms/step - loss: 0.2899 - acc: 0.8730 - val_loss: 0.2365 - val_acc: 0.9050\n",
      "Epoch 6/100\n",
      "100/100 [==============================] - 26s 261ms/step - loss: 0.2709 - acc: 0.8915 - val_loss: 0.2389 - val_acc: 0.8920\n",
      "Epoch 7/100\n",
      "100/100 [==============================] - 26s 263ms/step - loss: 0.2718 - acc: 0.8835 - val_loss: 0.2534 - val_acc: 0.9040\n",
      "Epoch 8/100\n",
      "100/100 [==============================] - 26s 264ms/step - loss: 0.2565 - acc: 0.8980 - val_loss: 0.2279 - val_acc: 0.9050\n",
      "Epoch 9/100\n",
      "100/100 [==============================] - 26s 264ms/step - loss: 0.2620 - acc: 0.8935 - val_loss: 0.2496 - val_acc: 0.8910\n",
      "Epoch 10/100\n",
      "100/100 [==============================] - 26s 261ms/step - loss: 0.2721 - acc: 0.8905 - val_loss: 0.2226 - val_acc: 0.9120\n",
      "Epoch 11/100\n",
      "100/100 [==============================] - 27s 266ms/step - loss: 0.2826 - acc: 0.8705 - val_loss: 0.2366 - val_acc: 0.9060\n",
      "Epoch 12/100\n",
      "100/100 [==============================] - 27s 270ms/step - loss: 0.2742 - acc: 0.8815 - val_loss: 0.2407 - val_acc: 0.9130\n",
      "Epoch 13/100\n",
      "100/100 [==============================] - 27s 268ms/step - loss: 0.2564 - acc: 0.8995 - val_loss: 0.2303 - val_acc: 0.9040\n",
      "Epoch 14/100\n",
      "100/100 [==============================] - 27s 268ms/step - loss: 0.2686 - acc: 0.8790 - val_loss: 0.2326 - val_acc: 0.9100\n",
      "Epoch 15/100\n",
      "100/100 [==============================] - 27s 271ms/step - loss: 0.2643 - acc: 0.8915 - val_loss: 0.2549 - val_acc: 0.8960\n",
      "Epoch 16/100\n",
      "100/100 [==============================] - 27s 268ms/step - loss: 0.2448 - acc: 0.8960 - val_loss: 0.2185 - val_acc: 0.9100\n",
      "Epoch 17/100\n",
      "100/100 [==============================] - 27s 267ms/step - loss: 0.2646 - acc: 0.8890 - val_loss: 0.2461 - val_acc: 0.9010\n",
      "Epoch 18/100\n",
      "100/100 [==============================] - 27s 268ms/step - loss: 0.2809 - acc: 0.8785 - val_loss: 0.2451 - val_acc: 0.9030\n",
      "Epoch 19/100\n",
      "100/100 [==============================] - 27s 268ms/step - loss: 0.2662 - acc: 0.8875 - val_loss: 0.2300 - val_acc: 0.9040\n",
      "Epoch 20/100\n",
      "100/100 [==============================] - 27s 267ms/step - loss: 0.2664 - acc: 0.8890 - val_loss: 0.2322 - val_acc: 0.9050\n",
      "Epoch 21/100\n",
      "100/100 [==============================] - 27s 271ms/step - loss: 0.2569 - acc: 0.8895 - val_loss: 0.2200 - val_acc: 0.9140\n",
      "Epoch 22/100\n",
      "100/100 [==============================] - 26s 265ms/step - loss: 0.2694 - acc: 0.8855 - val_loss: 0.2505 - val_acc: 0.8970\n",
      "Epoch 23/100\n",
      "100/100 [==============================] - 27s 269ms/step - loss: 0.2568 - acc: 0.8900 - val_loss: 0.2379 - val_acc: 0.9060\n",
      "Epoch 24/100\n",
      "100/100 [==============================] - 27s 266ms/step - loss: 0.2800 - acc: 0.8820 - val_loss: 0.2605 - val_acc: 0.8980\n",
      "Epoch 25/100\n",
      "100/100 [==============================] - 27s 266ms/step - loss: 0.2762 - acc: 0.8810 - val_loss: 0.2162 - val_acc: 0.9170\n",
      "Epoch 26/100\n",
      "100/100 [==============================] - 27s 269ms/step - loss: 0.2700 - acc: 0.8860 - val_loss: 0.2361 - val_acc: 0.8990\n",
      "Epoch 27/100\n",
      "100/100 [==============================] - 27s 265ms/step - loss: 0.2505 - acc: 0.8985 - val_loss: 0.2291 - val_acc: 0.9080\n",
      "Epoch 28/100\n",
      "100/100 [==============================] - 27s 267ms/step - loss: 0.2478 - acc: 0.8970 - val_loss: 0.2538 - val_acc: 0.9040\n",
      "Epoch 29/100\n",
      "100/100 [==============================] - 27s 266ms/step - loss: 0.2636 - acc: 0.8950 - val_loss: 0.2215 - val_acc: 0.9170\n",
      "Epoch 30/100\n",
      "100/100 [==============================] - 27s 266ms/step - loss: 0.2481 - acc: 0.8955 - val_loss: 0.2359 - val_acc: 0.9010\n",
      "Epoch 31/100\n",
      "100/100 [==============================] - 27s 268ms/step - loss: 0.2750 - acc: 0.8790 - val_loss: 0.2284 - val_acc: 0.9120\n",
      "Epoch 32/100\n",
      "100/100 [==============================] - 26s 264ms/step - loss: 0.2580 - acc: 0.8890 - val_loss: 0.2375 - val_acc: 0.9060\n",
      "Epoch 33/100\n",
      "100/100 [==============================] - 27s 267ms/step - loss: 0.2718 - acc: 0.8930 - val_loss: 0.2450 - val_acc: 0.9000\n",
      "Epoch 34/100\n",
      "100/100 [==============================] - 27s 268ms/step - loss: 0.2612 - acc: 0.8875 - val_loss: 0.2422 - val_acc: 0.9010\n",
      "Epoch 35/100\n",
      "100/100 [==============================] - 27s 270ms/step - loss: 0.2614 - acc: 0.8885 - val_loss: 0.2228 - val_acc: 0.9110\n",
      "Epoch 36/100\n",
      "100/100 [==============================] - 26s 261ms/step - loss: 0.2402 - acc: 0.8970 - val_loss: 0.2354 - val_acc: 0.9050\n",
      "Epoch 37/100\n",
      "100/100 [==============================] - 27s 266ms/step - loss: 0.2643 - acc: 0.8850 - val_loss: 0.2389 - val_acc: 0.9090\n",
      "Epoch 38/100\n",
      "100/100 [==============================] - 26s 265ms/step - loss: 0.2597 - acc: 0.8940 - val_loss: 0.2297 - val_acc: 0.8990\n",
      "Epoch 39/100\n",
      "100/100 [==============================] - 26s 263ms/step - loss: 0.2534 - acc: 0.8910 - val_loss: 0.2337 - val_acc: 0.9090\n",
      "Epoch 40/100\n",
      "100/100 [==============================] - 27s 265ms/step - loss: 0.2527 - acc: 0.8910 - val_loss: 0.2389 - val_acc: 0.9060\n",
      "Epoch 41/100\n",
      "100/100 [==============================] - 26s 262ms/step - loss: 0.2681 - acc: 0.8860 - val_loss: 0.2235 - val_acc: 0.9120\n",
      "Epoch 42/100\n",
      "100/100 [==============================] - 26s 260ms/step - loss: 0.2398 - acc: 0.8985 - val_loss: 0.2399 - val_acc: 0.9050\n",
      "Epoch 43/100\n",
      "100/100 [==============================] - 26s 264ms/step - loss: 0.2578 - acc: 0.8870 - val_loss: 0.2440 - val_acc: 0.8970\n",
      "Epoch 44/100\n",
      "100/100 [==============================] - 27s 267ms/step - loss: 0.2648 - acc: 0.8840 - val_loss: 0.2345 - val_acc: 0.9120\n",
      "Epoch 45/100\n",
      "100/100 [==============================] - 26s 263ms/step - loss: 0.2483 - acc: 0.8975 - val_loss: 0.2424 - val_acc: 0.9070\n",
      "Epoch 46/100\n",
      "100/100 [==============================] - 27s 265ms/step - loss: 0.2505 - acc: 0.9000 - val_loss: 0.2380 - val_acc: 0.9080\n",
      "Epoch 47/100\n",
      "100/100 [==============================] - 27s 269ms/step - loss: 0.2447 - acc: 0.8950 - val_loss: 0.2316 - val_acc: 0.9070\n",
      "Epoch 48/100\n",
      "100/100 [==============================] - 27s 271ms/step - loss: 0.2448 - acc: 0.9005 - val_loss: 0.2480 - val_acc: 0.9070\n",
      "Epoch 49/100\n",
      "100/100 [==============================] - 27s 266ms/step - loss: 0.2556 - acc: 0.8890 - val_loss: 0.2222 - val_acc: 0.9100\n",
      "Epoch 50/100\n",
      "100/100 [==============================] - 27s 268ms/step - loss: 0.2651 - acc: 0.8830 - val_loss: 0.2637 - val_acc: 0.8960\n",
      "Epoch 51/100\n",
      "100/100 [==============================] - 26s 264ms/step - loss: 0.2582 - acc: 0.8885 - val_loss: 0.2354 - val_acc: 0.9060\n",
      "Epoch 54/100\n",
      "100/100 [==============================] - 27s 268ms/step - loss: 0.2420 - acc: 0.9010 - val_loss: 0.2441 - val_acc: 0.8970\n",
      "Epoch 55/100\n",
      "100/100 [==============================] - 27s 270ms/step - loss: 0.2448 - acc: 0.8915 - val_loss: 0.2391 - val_acc: 0.9100\n",
      "Epoch 56/100\n",
      "100/100 [==============================] - 27s 267ms/step - loss: 0.2562 - acc: 0.8955 - val_loss: 0.2325 - val_acc: 0.9030\n",
      "Epoch 57/100\n",
      "100/100 [==============================] - 27s 266ms/step - loss: 0.2399 - acc: 0.8940 - val_loss: 0.2134 - val_acc: 0.9140\n",
      "Epoch 58/100\n",
      "100/100 [==============================] - 26s 265ms/step - loss: 0.2523 - acc: 0.8945 - val_loss: 0.2747 - val_acc: 0.8950\n",
      "Epoch 59/100\n",
      "100/100 [==============================] - 26s 263ms/step - loss: 0.2515 - acc: 0.8980 - val_loss: 0.2329 - val_acc: 0.9090\n",
      "Epoch 60/100\n",
      "100/100 [==============================] - 27s 268ms/step - loss: 0.2428 - acc: 0.8945 - val_loss: 0.2181 - val_acc: 0.9130\n",
      "Epoch 61/100\n",
      "100/100 [==============================] - 26s 265ms/step - loss: 0.2561 - acc: 0.8895 - val_loss: 0.2419 - val_acc: 0.9030\n",
      "Epoch 62/100\n",
      "100/100 [==============================] - 27s 267ms/step - loss: 0.2481 - acc: 0.8945 - val_loss: 0.2401 - val_acc: 0.9020\n",
      "Epoch 63/100\n",
      "100/100 [==============================] - 27s 267ms/step - loss: 0.2448 - acc: 0.8940 - val_loss: 0.2306 - val_acc: 0.9060\n",
      "Epoch 64/100\n",
      "100/100 [==============================] - 26s 265ms/step - loss: 0.2544 - acc: 0.8875 - val_loss: 0.2428 - val_acc: 0.8980\n",
      "Epoch 65/100\n",
      "100/100 [==============================] - 27s 267ms/step - loss: 0.2465 - acc: 0.8880 - val_loss: 0.2323 - val_acc: 0.9070\n",
      "Epoch 66/100\n",
      "100/100 [==============================] - 27s 267ms/step - loss: 0.2602 - acc: 0.8900 - val_loss: 0.2403 - val_acc: 0.9080\n",
      "Epoch 67/100\n",
      "100/100 [==============================] - 27s 272ms/step - loss: 0.2388 - acc: 0.8995 - val_loss: 0.2456 - val_acc: 0.9040\n",
      "Epoch 68/100\n",
      "100/100 [==============================] - 27s 266ms/step - loss: 0.2447 - acc: 0.8970 - val_loss: 0.2259 - val_acc: 0.9100\n",
      "Epoch 69/100\n",
      "100/100 [==============================] - 27s 269ms/step - loss: 0.2509 - acc: 0.8945 - val_loss: 0.2322 - val_acc: 0.9090\n",
      "Epoch 70/100\n",
      "100/100 [==============================] - 27s 270ms/step - loss: 0.2276 - acc: 0.9040 - val_loss: 0.2560 - val_acc: 0.8960\n",
      "Epoch 71/100\n",
      "100/100 [==============================] - 26s 264ms/step - loss: 0.2538 - acc: 0.8925 - val_loss: 0.2235 - val_acc: 0.9110\n",
      "Epoch 72/100\n",
      "100/100 [==============================] - 27s 268ms/step - loss: 0.2516 - acc: 0.8890 - val_loss: 0.2429 - val_acc: 0.9010\n",
      "Epoch 73/100\n",
      "100/100 [==============================] - 26s 265ms/step - loss: 0.2546 - acc: 0.8975 - val_loss: 0.2358 - val_acc: 0.9030\n",
      "Epoch 74/100\n",
      "100/100 [==============================] - 27s 269ms/step - loss: 0.2388 - acc: 0.8920 - val_loss: 0.2433 - val_acc: 0.9050\n",
      "Epoch 75/100\n",
      "100/100 [==============================] - 27s 270ms/step - loss: 0.2371 - acc: 0.9025 - val_loss: 0.2463 - val_acc: 0.9000\n",
      "Epoch 76/100\n",
      "100/100 [==============================] - 26s 265ms/step - loss: 0.2438 - acc: 0.8990 - val_loss: 0.2366 - val_acc: 0.9070\n",
      "Epoch 77/100\n",
      "100/100 [==============================] - 26s 262ms/step - loss: 0.2368 - acc: 0.9035 - val_loss: 0.2382 - val_acc: 0.9040\n",
      "Epoch 78/100\n",
      "100/100 [==============================] - 27s 267ms/step - loss: 0.2428 - acc: 0.9015 - val_loss: 0.2372 - val_acc: 0.9020\n",
      "Epoch 79/100\n",
      "100/100 [==============================] - 27s 271ms/step - loss: 0.2458 - acc: 0.8910 - val_loss: 0.2319 - val_acc: 0.9060\n",
      "Epoch 80/100\n",
      "100/100 [==============================] - 26s 263ms/step - loss: 0.2307 - acc: 0.9015 - val_loss: 0.2297 - val_acc: 0.9020\n",
      "Epoch 81/100\n",
      "100/100 [==============================] - 26s 265ms/step - loss: 0.2528 - acc: 0.8935 - val_loss: 0.2359 - val_acc: 0.9040\n",
      "Epoch 82/100\n",
      "100/100 [==============================] - 27s 267ms/step - loss: 0.2490 - acc: 0.8865 - val_loss: 0.2313 - val_acc: 0.9000\n",
      "Epoch 83/100\n",
      "100/100 [==============================] - 27s 269ms/step - loss: 0.2336 - acc: 0.9035 - val_loss: 0.2552 - val_acc: 0.8940\n",
      "Epoch 84/100\n",
      "100/100 [==============================] - 27s 269ms/step - loss: 0.2357 - acc: 0.9015 - val_loss: 0.2348 - val_acc: 0.9100\n",
      "Epoch 85/100\n",
      "100/100 [==============================] - 27s 270ms/step - loss: 0.2274 - acc: 0.9010 - val_loss: 0.2723 - val_acc: 0.8990\n",
      "Epoch 86/100\n",
      "100/100 [==============================] - 27s 271ms/step - loss: 0.2349 - acc: 0.9000 - val_loss: 0.2326 - val_acc: 0.8990\n",
      "Epoch 87/100\n",
      "100/100 [==============================] - 27s 271ms/step - loss: 0.2506 - acc: 0.8940 - val_loss: 0.2550 - val_acc: 0.8960\n",
      "Epoch 88/100\n",
      "100/100 [==============================] - 27s 268ms/step - loss: 0.2439 - acc: 0.8985 - val_loss: 0.2134 - val_acc: 0.9090\n",
      "Epoch 89/100\n",
      "100/100 [==============================] - 27s 268ms/step - loss: 0.2363 - acc: 0.9045 - val_loss: 0.2425 - val_acc: 0.8940\n",
      "Epoch 90/100\n",
      "100/100 [==============================] - 27s 267ms/step - loss: 0.2461 - acc: 0.8885 - val_loss: 0.2416 - val_acc: 0.8980\n",
      "Epoch 91/100\n",
      "100/100 [==============================] - 27s 267ms/step - loss: 0.2417 - acc: 0.9005 - val_loss: 0.2326 - val_acc: 0.9050\n",
      "Epoch 92/100\n",
      "100/100 [==============================] - 27s 265ms/step - loss: 0.2395 - acc: 0.9000 - val_loss: 0.2388 - val_acc: 0.9010\n",
      "Epoch 93/100\n",
      "100/100 [==============================] - 26s 261ms/step - loss: 0.2231 - acc: 0.9090 - val_loss: 0.2392 - val_acc: 0.9040\n",
      "Epoch 94/100\n",
      "100/100 [==============================] - 26s 263ms/step - loss: 0.2549 - acc: 0.8910 - val_loss: 0.2267 - val_acc: 0.8990\n",
      "Epoch 95/100\n",
      "100/100 [==============================] - 27s 266ms/step - loss: 0.2549 - acc: 0.8930 - val_loss: 0.2472 - val_acc: 0.8950\n",
      "Epoch 96/100\n",
      "100/100 [==============================] - 27s 266ms/step - loss: 0.2350 - acc: 0.9065 - val_loss: 0.2179 - val_acc: 0.9110\n",
      "Epoch 97/100\n",
      "100/100 [==============================] - 26s 261ms/step - loss: 0.2414 - acc: 0.8975 - val_loss: 0.2257 - val_acc: 0.9060\n",
      "Epoch 98/100\n",
      "100/100 [==============================] - 26s 263ms/step - loss: 0.2425 - acc: 0.9065 - val_loss: 0.2479 - val_acc: 0.8930\n",
      "Epoch 99/100\n",
      "100/100 [==============================] - 27s 270ms/step - loss: 0.2289 - acc: 0.8995 - val_loss: 0.2494 - val_acc: 0.8920\n",
      "Epoch 100/100\n",
      "100/100 [==============================] - 27s 269ms/step - loss: 0.2390 - acc: 0.8945 - val_loss: 0.2271 - val_acc: 0.9100\n"
     ]
    }
   ],
   "source": [
    "model.compile(\n",
    "    loss = 'binary_crossentropy',\n",
    "    optimizer = optimizers.RMSprop(lr = 1e-5),\n",
    "    metrics = ['acc']\n",
    ")\n",
    "\n",
    "history = model.fit_generator(\n",
    "    train_generator,\n",
    "    steps_per_epoch = 100,\n",
    "    epochs = 100,\n",
    "    validation_data = validation_generator,\n",
    "    validation_steps = 50\n",
    ")"
   ]
  },
  {
   "cell_type": "code",
   "execution_count": 35,
   "metadata": {},
   "outputs": [],
   "source": [
    "def smooth_curve(points, factor = 0.8):\n",
    "    smoothed_points = []\n",
    "    for point in points:\n",
    "        if smoothed_points:\n",
    "            previous = smoothed_points[-1]\n",
    "            smoothed_points.append(previous * factor + point * (1-factor))\n",
    "        else:\n",
    "            smoothed_points.append(point)\n",
    "    return(smoothed_points)"
   ]
  },
  {
   "cell_type": "code",
   "execution_count": 39,
   "metadata": {},
   "outputs": [],
   "source": [
    "acc = history.history['acc']\n",
    "val_acc = history.history['val_acc']\n",
    "\n",
    "loss = history.history['loss']\n",
    "val_loss = history.history['val_loss']\n",
    "\n",
    "epochs = range(1, len(acc) + 1)"
   ]
  },
  {
   "cell_type": "code",
   "execution_count": 40,
   "metadata": {},
   "outputs": [
    {
     "data": {
      "text/plain": [
       "[<matplotlib.lines.Line2D at 0x7f9516d97c50>]"
      ]
     },
     "execution_count": 40,
     "metadata": {},
     "output_type": "execute_result"
    },
    {
     "data": {
      "image/png": "[encoded data removed]",
      "text/plain": [
       "<Figure size 432x288 with 1 Axes>"
      ]
     },
     "metadata": {
      "needs_background": "light"
     },
     "output_type": "display_data"
    },
    {
     "data": {
      "image/png": "[encoded data removed]",
      "text/plain": [
       "<Figure size 432x288 with 1 Axes>"
      ]
     },
     "metadata": {
      "needs_background": "light"
     },
     "output_type": "display_data"
    }
   ],
   "source": [
    "plt.plot(\n",
    "    epochs,\n",
    "    smooth_curve(acc),\n",
    "    'bo',\n",
    "    label = 'Smoothed training accuracy'\n",
    ")\n",
    "\n",
    "\n",
    "\n",
    "plt.plot(\n",
    "    epochs,\n",
    "    smooth_curve(val_acc),\n",
    "    'b',\n",
    "    label = 'Smoothed validation acc'\n",
    ")\n",
    "\n",
    "plt.title('Training and validation accuracy')\n",
    "plt.legend()\n",
    "\n",
    "plt.figure()\n",
    "\n",
    "plt.plot(\n",
    "    epochs,\n",
    "    smooth_curve(loss),\n",
    "    'bo',\n",
    "    label = 'Smoothed training loss'\n",
    ")\n",
    "\n",
    "plt.plot(\n",
    "    epochs,\n",
    "    smooth_curve(val_loss),\n",
    "    'b',\n",
    "    label = 'Smoothed validation loss'\n",
    ")"
   ]
  },
  {
   "cell_type": "code",
   "execution_count": 41,
   "metadata": {},
   "outputs": [
    {
     "name": "stdout",
     "output_type": "stream",
     "text": [
      "Found 1000 images belonging to 2 classes.\n",
      "0.8999999952316284\n"
     ]
    }
   ],
   "source": [
    "test_generator = test_datagen.flow_from_directory(\n",
    "    test_dir,\n",
    "    target_size = (150, 150),\n",
    "    batch_size = 20,\n",
    "    class_mode = 'binary'\n",
    ")\n",
    "\n",
    "tet_loss, test_acc = model.evaluate_generator(\n",
    "    test_generator,\n",
    "    steps = 50\n",
    ")\n",
    "\n",
    "print(test_acc)"
   ]
  }
 ],
 "metadata": {
  "kernelspec": {
   "display_name": "Python 2",
   "language": "python",
   "name": "python2"
  },
  "language_info": {
   "codemirror_mode": {
    "name": "ipython",
    "version": 2
   },
   "file_extension": ".py",
   "mimetype": "text/x-python",
   "name": "python",
   "nbconvert_exporter": "python",
   "pygments_lexer": "ipython2",
   "version": "2.7.13"
  }
 },
 "nbformat": 4,
 "nbformat_minor": 2
}
